{
  "cells": [
    {
      "cell_type": "markdown",
      "id": "6acf181c",
      "metadata": {
        "papermill": {
          "duration": 0.01134,
          "end_time": "2023-04-04T00:53:12.669046",
          "exception": false,
          "start_time": "2023-04-04T00:53:12.657706",
          "status": "completed"
        },
        "tags": [],
        "id": "6acf181c"
      },
      "source": [
        "# THE PROBLEM & GOAL"
      ]
    },
    {
      "cell_type": "markdown",
      "id": "7b6891c4",
      "metadata": {
        "papermill": {
          "duration": 0.011662,
          "end_time": "2023-04-04T00:53:12.693688",
          "exception": false,
          "start_time": "2023-04-04T00:53:12.682026",
          "status": "completed"
        },
        "tags": [],
        "id": "7b6891c4"
      },
      "source": [
        "**Problem:**\n",
        "\n",
        "Once upon a time, in a far-off land, there lived a beautiful princess who had fallen gravely ill. The king and queen of the land tried everything in their power to cure her, but none of the remedies they tried seemed to work.\n",
        "\n",
        "A group of local villagers approached the king and queen and told them about a set of magical ingredients that were said to have the power to cure any ailment. However, the villagers warned that these ingredients could be volatile in their effects, in addition, due to the recent droughts, only so many of the ingredients may be available at any given time, and only a skilled alchemist would be able to determine if a specific combination of these particularly volatile and scarce ingredients would to cure the princess.\n",
        "\n",
        "The king and queen were desperate to save their daughter, so they set out to find the best alchemist in the land. They searched high and low and finally found an alchemist who had a reputation for being a master of a new magical art known as \"Data Science and Machine Learning\"\n",
        "\n",
        "The alchemist first examined the claims of the villagers and the amounts they had taken of each ingredient, along with whether or not it had led to a cure. The alchemist knew that this was their one shot at curing the princess, and they had to get it right.\n",
        "\n",
        "**Goal:**\n",
        "- We will be trying to determine how accurate we will be with consistency with given sets of ingredients, as mentioned they are volatile and scarce so we need to be ready for different combinations to be available at any given time.\n",
        "- These ingredients (features we will use to predict) are as follows:\n",
        "  - Phoenix Feather\n",
        "  - Unicorn Horn\n",
        "  - Dragon's Blood\n",
        "  - Mermaid Tears\n",
        "  - Fairy Dust\n",
        "  - Goblin Toes\n",
        "  - Witch's Brew\n",
        "  - Griffin Claw\n",
        "  - Troll Hair\n",
        "  - Kraken Ink\n",
        "  - Minotaur Horn\n",
        "  - Basellisk Scale\n",
        "  - Chimera Fang\n",
        "  \n",
        "  \n",
        "- Which will let us determine the target variable which is:\n",
        "  - Cured (whether the ingredients and quantity combination lead to a cure)"
      ]
    },
    {
      "cell_type": "markdown",
      "id": "612129ae",
      "metadata": {
        "papermill": {
          "duration": 0.011876,
          "end_time": "2023-04-04T00:53:12.717077",
          "exception": false,
          "start_time": "2023-04-04T00:53:12.705201",
          "status": "completed"
        },
        "tags": [],
        "id": "612129ae"
      },
      "source": [
        "# OUTLINE FOR NOTEBOOK"
      ]
    },
    {
      "cell_type": "markdown",
      "id": "6139b791",
      "metadata": {
        "papermill": {
          "duration": 0.011323,
          "end_time": "2023-04-04T00:53:12.740028",
          "exception": false,
          "start_time": "2023-04-04T00:53:12.728705",
          "status": "completed"
        },
        "tags": [],
        "id": "6139b791"
      },
      "source": [
        "**Problem Type:**\n",
        "\n",
        "Classification (Binary)\n",
        "\n"
      ]
    },
    {
      "cell_type": "markdown",
      "id": "11005254",
      "metadata": {
        "papermill": {
          "duration": 0.011304,
          "end_time": "2023-04-04T00:53:12.763219",
          "exception": false,
          "start_time": "2023-04-04T00:53:12.751915",
          "status": "completed"
        },
        "tags": [],
        "id": "11005254"
      },
      "source": [
        "#PHASE-1\n"
      ]
    },
    {
      "cell_type": "code",
      "execution_count": 135,
      "id": "70b90621",
      "metadata": {
        "_kg_hide-input": true,
        "execution": {
          "iopub.execute_input": "2023-04-04T00:53:59.052427Z",
          "iopub.status.busy": "2023-04-04T00:53:59.051992Z",
          "iopub.status.idle": "2023-04-04T00:54:20.067128Z",
          "shell.execute_reply": "2023-04-04T00:54:20.065937Z"
        },
        "papermill": {
          "duration": 21.050104,
          "end_time": "2023-04-04T00:54:20.070056",
          "exception": false,
          "start_time": "2023-04-04T00:53:59.019952",
          "status": "completed"
        },
        "tags": [],
        "id": "70b90621"
      },
      "outputs": [],
      "source": [
        "#importing libraries\n",
        "\n",
        "import pandas as pd\n",
        "import numpy as np\n",
        "from scipy import stats\n",
        "import tensorflow as tf\n",
        "\n",
        "from keras.models import Sequential\n",
        "from keras.layers import Dense\n",
        "from tensorflow.keras.callbacks import ModelCheckpoint\n",
        "from sklearn.utils import shuffle\n",
        "\n",
        "# Visuals\n",
        "import matplotlib.pyplot as plt\n",
        "import seaborn as sns\n",
        "import plotly.express as px\n",
        "import plotly.graph_objects as go\n",
        "\n",
        "# Warnigs ignore\n",
        "import warnings\n",
        "warnings.filterwarnings(\"ignore\")"
      ]
    },
    {
      "cell_type": "markdown",
      "id": "e64bc2f0",
      "metadata": {
        "papermill": {
          "duration": 0.118617,
          "end_time": "2023-04-04T00:54:20.303773",
          "exception": false,
          "start_time": "2023-04-04T00:54:20.185156",
          "status": "completed"
        },
        "tags": [],
        "id": "e64bc2f0"
      },
      "source": [
        "# A) LOAD DATA"
      ]
    },
    {
      "cell_type": "code",
      "execution_count": 136,
      "id": "e159ff8a",
      "metadata": {
        "_kg_hide-input": true,
        "execution": {
          "iopub.execute_input": "2023-04-04T00:54:20.551350Z",
          "iopub.status.busy": "2023-04-04T00:54:20.550361Z",
          "iopub.status.idle": "2023-04-04T00:54:20.576553Z",
          "shell.execute_reply": "2023-04-04T00:54:20.575640Z"
        },
        "jupyter": {
          "outputs_hidden": false
        },
        "papermill": {
          "duration": 0.156205,
          "end_time": "2023-04-04T00:54:20.578989",
          "exception": false,
          "start_time": "2023-04-04T00:54:20.422784",
          "status": "completed"
        },
        "tags": [],
        "id": "e159ff8a"
      },
      "outputs": [],
      "source": [
        "# Load the dataset into a pandas DataFrame with column names \n",
        "df = pd.read_csv(\"data.csv\", header=0)"
      ]
    },
    {
      "cell_type": "markdown",
      "id": "d45693a9",
      "metadata": {
        "papermill": {
          "duration": 0.119854,
          "end_time": "2023-04-04T00:54:20.818662",
          "exception": false,
          "start_time": "2023-04-04T00:54:20.698808",
          "status": "completed"
        },
        "tags": [],
        "id": "d45693a9"
      },
      "source": [
        "# CLEAN: GET INFO"
      ]
    },
    {
      "cell_type": "code",
      "execution_count": 137,
      "id": "9c56d6db",
      "metadata": {
        "_kg_hide-input": true,
        "execution": {
          "iopub.execute_input": "2023-04-04T00:54:21.073831Z",
          "iopub.status.busy": "2023-04-04T00:54:21.073387Z",
          "iopub.status.idle": "2023-04-04T00:54:21.144925Z",
          "shell.execute_reply": "2023-04-04T00:54:21.139018Z"
        },
        "jupyter": {
          "outputs_hidden": false
        },
        "papermill": {
          "duration": 0.212686,
          "end_time": "2023-04-04T00:54:21.150168",
          "exception": false,
          "start_time": "2023-04-04T00:54:20.937482",
          "status": "completed"
        },
        "tags": [],
        "colab": {
          "base_uri": "https://localhost:8080/",
          "height": 0
        },
        "id": "9c56d6db",
        "outputId": "b81cf8be-be96-4df9-e90e-8c6a360a9acc"
      },
      "outputs": [
        {
          "output_type": "stream",
          "name": "stdout",
          "text": [
            "[SHAPE BREAKDOWN]\n",
            "2338 rows and 14 columns\n"
          ]
        }
      ],
      "source": [
        "# Print the ammount of rows and columns in the dataframe\n",
        "print(\"[SHAPE BREAKDOWN]\\n{} rows and {} columns\".format(df.shape[0], df.shape[1]))"
      ]
    },
    {
      "cell_type": "code",
      "source": [
        "# Print the first 10 rows of the dataframe\n",
        "print(\"\\n[FIRST 10 ROWS PREVIEW]\")\n",
        "df.head(10)"
      ],
      "metadata": {
        "colab": {
          "base_uri": "https://localhost:8080/",
          "height": 459
        },
        "id": "qgVEVToHyZ0A",
        "outputId": "2d39e334-79ee-4bc9-95cd-b0b5de70d1bb"
      },
      "id": "qgVEVToHyZ0A",
      "execution_count": 138,
      "outputs": [
        {
          "output_type": "stream",
          "name": "stdout",
          "text": [
            "\n",
            "[FIRST 10 ROWS PREVIEW]\n"
          ]
        },
        {
          "output_type": "execute_result",
          "data": {
            "text/plain": [
              "   Phoenix Feather  Unicorn Horn  Dragon's Blood  Mermaid Tears  Fairy Dust  \\\n",
              "0              2.4          18.7            18.4           27.9         7.9   \n",
              "1              2.1           6.0            15.0           13.3        15.6   \n",
              "2             17.2          13.9            23.8            6.8        10.7   \n",
              "3              8.4           9.7             6.8           26.9         4.6   \n",
              "4             22.1          10.8            16.4           10.5        22.0   \n",
              "5             21.9           5.5            11.5            5.0        27.9   \n",
              "6             30.0           8.6            29.1           26.0        18.6   \n",
              "7             16.4          12.1            14.2           22.0        15.6   \n",
              "8             28.4          18.9            30.3            5.6        18.0   \n",
              "9             11.8          17.7             8.8           22.9         6.1   \n",
              "\n",
              "   Goblin Toes  Witch's Brew  Griffin Claw  Troll Hair  Kraken Ink  \\\n",
              "0          9.6          18.3          13.2         2.5        26.0   \n",
              "1         13.1          11.0           5.0         7.2        26.0   \n",
              "2         15.8          19.4           2.7        15.4        21.2   \n",
              "3         29.1          14.6          19.7        18.0        20.8   \n",
              "4         23.4           2.6          18.2        23.8        11.3   \n",
              "5         20.9          20.5          22.7        33.9         7.4   \n",
              "6         13.8           3.8          19.1        42.3        17.3   \n",
              "7         10.4          11.7          18.4        21.0        20.3   \n",
              "8          9.9           6.2          24.4        14.4         2.7   \n",
              "9          5.8          15.7           2.6        16.5        23.7   \n",
              "\n",
              "   Minotaur Horn  Basilisk Scale  Chimera Fang  Cured  \n",
              "0           10.5            26.2          12.5      0  \n",
              "1            1.5            13.3           6.2      0  \n",
              "2           11.1            16.6          11.4      1  \n",
              "3           13.6            13.9           8.1      1  \n",
              "4            5.5            16.8          16.2      0  \n",
              "5            3.6            38.4           5.2      1  \n",
              "6           16.8            16.3           4.5      1  \n",
              "7            4.0            15.7          15.3      0  \n",
              "8           15.1            41.6           7.0      0  \n",
              "9           25.2             1.7           1.1      1  "
            ],
            "text/html": [
              "\n",
              "  <div id=\"df-217190cf-1b5d-4665-bfc7-7b2c5def3ca6\">\n",
              "    <div class=\"colab-df-container\">\n",
              "      <div>\n",
              "<style scoped>\n",
              "    .dataframe tbody tr th:only-of-type {\n",
              "        vertical-align: middle;\n",
              "    }\n",
              "\n",
              "    .dataframe tbody tr th {\n",
              "        vertical-align: top;\n",
              "    }\n",
              "\n",
              "    .dataframe thead th {\n",
              "        text-align: right;\n",
              "    }\n",
              "</style>\n",
              "<table border=\"1\" class=\"dataframe\">\n",
              "  <thead>\n",
              "    <tr style=\"text-align: right;\">\n",
              "      <th></th>\n",
              "      <th>Phoenix Feather</th>\n",
              "      <th>Unicorn Horn</th>\n",
              "      <th>Dragon's Blood</th>\n",
              "      <th>Mermaid Tears</th>\n",
              "      <th>Fairy Dust</th>\n",
              "      <th>Goblin Toes</th>\n",
              "      <th>Witch's Brew</th>\n",
              "      <th>Griffin Claw</th>\n",
              "      <th>Troll Hair</th>\n",
              "      <th>Kraken Ink</th>\n",
              "      <th>Minotaur Horn</th>\n",
              "      <th>Basilisk Scale</th>\n",
              "      <th>Chimera Fang</th>\n",
              "      <th>Cured</th>\n",
              "    </tr>\n",
              "  </thead>\n",
              "  <tbody>\n",
              "    <tr>\n",
              "      <th>0</th>\n",
              "      <td>2.4</td>\n",
              "      <td>18.7</td>\n",
              "      <td>18.4</td>\n",
              "      <td>27.9</td>\n",
              "      <td>7.9</td>\n",
              "      <td>9.6</td>\n",
              "      <td>18.3</td>\n",
              "      <td>13.2</td>\n",
              "      <td>2.5</td>\n",
              "      <td>26.0</td>\n",
              "      <td>10.5</td>\n",
              "      <td>26.2</td>\n",
              "      <td>12.5</td>\n",
              "      <td>0</td>\n",
              "    </tr>\n",
              "    <tr>\n",
              "      <th>1</th>\n",
              "      <td>2.1</td>\n",
              "      <td>6.0</td>\n",
              "      <td>15.0</td>\n",
              "      <td>13.3</td>\n",
              "      <td>15.6</td>\n",
              "      <td>13.1</td>\n",
              "      <td>11.0</td>\n",
              "      <td>5.0</td>\n",
              "      <td>7.2</td>\n",
              "      <td>26.0</td>\n",
              "      <td>1.5</td>\n",
              "      <td>13.3</td>\n",
              "      <td>6.2</td>\n",
              "      <td>0</td>\n",
              "    </tr>\n",
              "    <tr>\n",
              "      <th>2</th>\n",
              "      <td>17.2</td>\n",
              "      <td>13.9</td>\n",
              "      <td>23.8</td>\n",
              "      <td>6.8</td>\n",
              "      <td>10.7</td>\n",
              "      <td>15.8</td>\n",
              "      <td>19.4</td>\n",
              "      <td>2.7</td>\n",
              "      <td>15.4</td>\n",
              "      <td>21.2</td>\n",
              "      <td>11.1</td>\n",
              "      <td>16.6</td>\n",
              "      <td>11.4</td>\n",
              "      <td>1</td>\n",
              "    </tr>\n",
              "    <tr>\n",
              "      <th>3</th>\n",
              "      <td>8.4</td>\n",
              "      <td>9.7</td>\n",
              "      <td>6.8</td>\n",
              "      <td>26.9</td>\n",
              "      <td>4.6</td>\n",
              "      <td>29.1</td>\n",
              "      <td>14.6</td>\n",
              "      <td>19.7</td>\n",
              "      <td>18.0</td>\n",
              "      <td>20.8</td>\n",
              "      <td>13.6</td>\n",
              "      <td>13.9</td>\n",
              "      <td>8.1</td>\n",
              "      <td>1</td>\n",
              "    </tr>\n",
              "    <tr>\n",
              "      <th>4</th>\n",
              "      <td>22.1</td>\n",
              "      <td>10.8</td>\n",
              "      <td>16.4</td>\n",
              "      <td>10.5</td>\n",
              "      <td>22.0</td>\n",
              "      <td>23.4</td>\n",
              "      <td>2.6</td>\n",
              "      <td>18.2</td>\n",
              "      <td>23.8</td>\n",
              "      <td>11.3</td>\n",
              "      <td>5.5</td>\n",
              "      <td>16.8</td>\n",
              "      <td>16.2</td>\n",
              "      <td>0</td>\n",
              "    </tr>\n",
              "    <tr>\n",
              "      <th>5</th>\n",
              "      <td>21.9</td>\n",
              "      <td>5.5</td>\n",
              "      <td>11.5</td>\n",
              "      <td>5.0</td>\n",
              "      <td>27.9</td>\n",
              "      <td>20.9</td>\n",
              "      <td>20.5</td>\n",
              "      <td>22.7</td>\n",
              "      <td>33.9</td>\n",
              "      <td>7.4</td>\n",
              "      <td>3.6</td>\n",
              "      <td>38.4</td>\n",
              "      <td>5.2</td>\n",
              "      <td>1</td>\n",
              "    </tr>\n",
              "    <tr>\n",
              "      <th>6</th>\n",
              "      <td>30.0</td>\n",
              "      <td>8.6</td>\n",
              "      <td>29.1</td>\n",
              "      <td>26.0</td>\n",
              "      <td>18.6</td>\n",
              "      <td>13.8</td>\n",
              "      <td>3.8</td>\n",
              "      <td>19.1</td>\n",
              "      <td>42.3</td>\n",
              "      <td>17.3</td>\n",
              "      <td>16.8</td>\n",
              "      <td>16.3</td>\n",
              "      <td>4.5</td>\n",
              "      <td>1</td>\n",
              "    </tr>\n",
              "    <tr>\n",
              "      <th>7</th>\n",
              "      <td>16.4</td>\n",
              "      <td>12.1</td>\n",
              "      <td>14.2</td>\n",
              "      <td>22.0</td>\n",
              "      <td>15.6</td>\n",
              "      <td>10.4</td>\n",
              "      <td>11.7</td>\n",
              "      <td>18.4</td>\n",
              "      <td>21.0</td>\n",
              "      <td>20.3</td>\n",
              "      <td>4.0</td>\n",
              "      <td>15.7</td>\n",
              "      <td>15.3</td>\n",
              "      <td>0</td>\n",
              "    </tr>\n",
              "    <tr>\n",
              "      <th>8</th>\n",
              "      <td>28.4</td>\n",
              "      <td>18.9</td>\n",
              "      <td>30.3</td>\n",
              "      <td>5.6</td>\n",
              "      <td>18.0</td>\n",
              "      <td>9.9</td>\n",
              "      <td>6.2</td>\n",
              "      <td>24.4</td>\n",
              "      <td>14.4</td>\n",
              "      <td>2.7</td>\n",
              "      <td>15.1</td>\n",
              "      <td>41.6</td>\n",
              "      <td>7.0</td>\n",
              "      <td>0</td>\n",
              "    </tr>\n",
              "    <tr>\n",
              "      <th>9</th>\n",
              "      <td>11.8</td>\n",
              "      <td>17.7</td>\n",
              "      <td>8.8</td>\n",
              "      <td>22.9</td>\n",
              "      <td>6.1</td>\n",
              "      <td>5.8</td>\n",
              "      <td>15.7</td>\n",
              "      <td>2.6</td>\n",
              "      <td>16.5</td>\n",
              "      <td>23.7</td>\n",
              "      <td>25.2</td>\n",
              "      <td>1.7</td>\n",
              "      <td>1.1</td>\n",
              "      <td>1</td>\n",
              "    </tr>\n",
              "  </tbody>\n",
              "</table>\n",
              "</div>\n",
              "      <button class=\"colab-df-convert\" onclick=\"convertToInteractive('df-217190cf-1b5d-4665-bfc7-7b2c5def3ca6')\"\n",
              "              title=\"Convert this dataframe to an interactive table.\"\n",
              "              style=\"display:none;\">\n",
              "        \n",
              "  <svg xmlns=\"http://www.w3.org/2000/svg\" height=\"24px\"viewBox=\"0 0 24 24\"\n",
              "       width=\"24px\">\n",
              "    <path d=\"M0 0h24v24H0V0z\" fill=\"none\"/>\n",
              "    <path d=\"M18.56 5.44l.94 2.06.94-2.06 2.06-.94-2.06-.94-.94-2.06-.94 2.06-2.06.94zm-11 1L8.5 8.5l.94-2.06 2.06-.94-2.06-.94L8.5 2.5l-.94 2.06-2.06.94zm10 10l.94 2.06.94-2.06 2.06-.94-2.06-.94-.94-2.06-.94 2.06-2.06.94z\"/><path d=\"M17.41 7.96l-1.37-1.37c-.4-.4-.92-.59-1.43-.59-.52 0-1.04.2-1.43.59L10.3 9.45l-7.72 7.72c-.78.78-.78 2.05 0 2.83L4 21.41c.39.39.9.59 1.41.59.51 0 1.02-.2 1.41-.59l7.78-7.78 2.81-2.81c.8-.78.8-2.07 0-2.86zM5.41 20L4 18.59l7.72-7.72 1.47 1.35L5.41 20z\"/>\n",
              "  </svg>\n",
              "      </button>\n",
              "      \n",
              "  <style>\n",
              "    .colab-df-container {\n",
              "      display:flex;\n",
              "      flex-wrap:wrap;\n",
              "      gap: 12px;\n",
              "    }\n",
              "\n",
              "    .colab-df-convert {\n",
              "      background-color: #E8F0FE;\n",
              "      border: none;\n",
              "      border-radius: 50%;\n",
              "      cursor: pointer;\n",
              "      display: none;\n",
              "      fill: #1967D2;\n",
              "      height: 32px;\n",
              "      padding: 0 0 0 0;\n",
              "      width: 32px;\n",
              "    }\n",
              "\n",
              "    .colab-df-convert:hover {\n",
              "      background-color: #E2EBFA;\n",
              "      box-shadow: 0px 1px 2px rgba(60, 64, 67, 0.3), 0px 1px 3px 1px rgba(60, 64, 67, 0.15);\n",
              "      fill: #174EA6;\n",
              "    }\n",
              "\n",
              "    [theme=dark] .colab-df-convert {\n",
              "      background-color: #3B4455;\n",
              "      fill: #D2E3FC;\n",
              "    }\n",
              "\n",
              "    [theme=dark] .colab-df-convert:hover {\n",
              "      background-color: #434B5C;\n",
              "      box-shadow: 0px 1px 3px 1px rgba(0, 0, 0, 0.15);\n",
              "      filter: drop-shadow(0px 1px 2px rgba(0, 0, 0, 0.3));\n",
              "      fill: #FFFFFF;\n",
              "    }\n",
              "  </style>\n",
              "\n",
              "      <script>\n",
              "        const buttonEl =\n",
              "          document.querySelector('#df-217190cf-1b5d-4665-bfc7-7b2c5def3ca6 button.colab-df-convert');\n",
              "        buttonEl.style.display =\n",
              "          google.colab.kernel.accessAllowed ? 'block' : 'none';\n",
              "\n",
              "        async function convertToInteractive(key) {\n",
              "          const element = document.querySelector('#df-217190cf-1b5d-4665-bfc7-7b2c5def3ca6');\n",
              "          const dataTable =\n",
              "            await google.colab.kernel.invokeFunction('convertToInteractive',\n",
              "                                                     [key], {});\n",
              "          if (!dataTable) return;\n",
              "\n",
              "          const docLinkHtml = 'Like what you see? Visit the ' +\n",
              "            '<a target=\"_blank\" href=https://colab.research.google.com/notebooks/data_table.ipynb>data table notebook</a>'\n",
              "            + ' to learn more about interactive tables.';\n",
              "          element.innerHTML = '';\n",
              "          dataTable['output_type'] = 'display_data';\n",
              "          await google.colab.output.renderOutput(dataTable, element);\n",
              "          const docLink = document.createElement('div');\n",
              "          docLink.innerHTML = docLinkHtml;\n",
              "          element.appendChild(docLink);\n",
              "        }\n",
              "      </script>\n",
              "    </div>\n",
              "  </div>\n",
              "  "
            ]
          },
          "metadata": {},
          "execution_count": 138
        }
      ]
    },
    {
      "cell_type": "code",
      "source": [
        "# Show the names of each column in the dataframe\n",
        "print(\"\\n[COLUMN BREAKDOWN]\")\n",
        "print(df.columns)"
      ],
      "metadata": {
        "colab": {
          "base_uri": "https://localhost:8080/",
          "height": 0
        },
        "id": "vQ2PXCBeyVEE",
        "outputId": "6dfffa45-f4b5-4691-e336-292db81cd1ff"
      },
      "id": "vQ2PXCBeyVEE",
      "execution_count": 139,
      "outputs": [
        {
          "output_type": "stream",
          "name": "stdout",
          "text": [
            "\n",
            "[COLUMN BREAKDOWN]\n",
            "Index(['Phoenix Feather', 'Unicorn Horn', 'Dragon's Blood', 'Mermaid Tears',\n",
            "       'Fairy Dust', 'Goblin Toes', 'Witch's Brew', 'Griffin Claw',\n",
            "       'Troll Hair', 'Kraken Ink', 'Minotaur Horn', 'Basilisk Scale',\n",
            "       'Chimera Fang', 'Cured'],\n",
            "      dtype='object')\n"
          ]
        }
      ]
    },
    {
      "cell_type": "code",
      "source": [
        "# Show the number of unique values in each column\n",
        "print(\"[UNIQUE VALUES PER COLUMN]\\n\")\n",
        "df.nunique()"
      ],
      "metadata": {
        "colab": {
          "base_uri": "https://localhost:8080/",
          "height": 0
        },
        "id": "3iomyFjx7jCd",
        "outputId": "fbc1ac38-df6c-4074-f21a-de6d33441f49"
      },
      "id": "3iomyFjx7jCd",
      "execution_count": 140,
      "outputs": [
        {
          "output_type": "stream",
          "name": "stdout",
          "text": [
            "[UNIQUE VALUES PER COLUMN]\n",
            "\n"
          ]
        },
        {
          "output_type": "execute_result",
          "data": {
            "text/plain": [
              "Phoenix Feather    362\n",
              "Unicorn Horn       303\n",
              "Dragon's Blood     351\n",
              "Mermaid Tears      321\n",
              "Fairy Dust         351\n",
              "Goblin Toes        330\n",
              "Witch's Brew       329\n",
              "Griffin Claw       341\n",
              "Troll Hair         379\n",
              "Kraken Ink         345\n",
              "Minotaur Horn      295\n",
              "Basilisk Scale     364\n",
              "Chimera Fang       330\n",
              "Cured                2\n",
              "dtype: int64"
            ]
          },
          "metadata": {},
          "execution_count": 140
        }
      ]
    },
    {
      "cell_type": "markdown",
      "source": [
        "## B)Distribution of each columns"
      ],
      "metadata": {
        "id": "iAK4LszY6TKs"
      },
      "id": "iAK4LszY6TKs"
    },
    {
      "cell_type": "code",
      "source": [
        "import matplotlib.pyplot as plt\n",
        "\n",
        "# Plot the distribution of each column\n",
        "fig, axs = plt.subplots(len(df.columns[:-1]), figsize=(7, 20))\n",
        "for i, col in enumerate(df.columns[:-1]):\n",
        "    axs[i].hist(df[col], bins=19)\n",
        "    axs[i].set_title(col)\n",
        "    \n",
        "plt.show()\n"
      ],
      "metadata": {
        "colab": {
          "base_uri": "https://localhost:8080/",
          "height": 1406
        },
        "id": "Uk0tl80Am3Up",
        "outputId": "cddf470a-37df-4cbc-805b-d15ab0b009b2"
      },
      "id": "Uk0tl80Am3Up",
      "execution_count": 141,
      "outputs": [
        {
          "output_type": "display_data",
          "data": {
            "text/plain": [
              "<Figure size 700x2000 with 13 Axes>"
            ],
            "image/png": "[encoded data removed]"
          },
          "metadata": {}
        }
      ]
    },
    {
      "cell_type": "markdown",
      "source": [
        "# Normalize the data"
      ],
      "metadata": {
        "id": "4lpUA7NT62R-"
      },
      "id": "4lpUA7NT62R-"
    },
    {
      "cell_type": "code",
      "source": [
        "for col in df.columns[:-1]:\n",
        "    mean = df[col].mean()\n",
        "    std = df[col].std()\n",
        "    df[col] = (df[col] - mean) / std"
      ],
      "metadata": {
        "id": "qgTLnyibnObH"
      },
      "id": "qgTLnyibnObH",
      "execution_count": 142,
      "outputs": []
    },
    {
      "cell_type": "markdown",
      "source": [
        "PHASE 2:\n",
        "OVERFITTING OF DATA"
      ],
      "metadata": {
        "id": "BvPVEn6P7O2Y"
      },
      "id": "BvPVEn6P7O2Y"
    },
    {
      "cell_type": "code",
      "source": [
        "# Split the data into features and labels\n",
        "X = df.iloc[:, :-1].values\n",
        "y = df.iloc[:, -1].values\n"
      ],
      "metadata": {
        "id": "0C_xDCPJnYcv"
      },
      "id": "0C_xDCPJnYcv",
      "execution_count": 144,
      "outputs": []
    },
    {
      "cell_type": "code",
      "source": [
        "# Define the model architecture\n",
        "\n",
        "model = Sequential()\n",
        "model.add(Dense(12, input_dim=X.shape[1], activation='relu'))\n",
        "model.add(Dense(8, activation='relu'))\n",
        "model.add(Dense(1, activation='sigmoid'))"
      ],
      "metadata": {
        "id": "eD8qVUqwneZA"
      },
      "id": "eD8qVUqwneZA",
      "execution_count": 145,
      "outputs": []
    },
    {
      "cell_type": "code",
      "source": [
        "model.compile(loss='binary_crossentropy', optimizer='adam', metrics=['accuracy'])"
      ],
      "metadata": {
        "id": "hNFcuB8aKbp0"
      },
      "id": "hNFcuB8aKbp0",
      "execution_count": 146,
      "outputs": []
    },
    {
      "cell_type": "code",
      "source": [
        "history = model.fit(X, y, epochs=150, batch_size=10, verbose=1)\n",
        "\n",
        "# Plot the loss and accuracy over epochs\n",
        "fig, axs = plt.subplots(2, figsize=(8, 6))\n",
        "axs[0].plot(history.history['loss'])\n",
        "axs[0].set_title('Loss')\n",
        "axs[1].plot(history.history['accuracy'])\n",
        "axs[1].set_title('Accuracy')\n",
        "plt.show()"
      ],
      "metadata": {
        "colab": {
          "base_uri": "https://localhost:8080/",
          "height": 5652
        },
        "id": "1g988N-Mn2Ez",
        "outputId": "e744f215-8c5d-4afa-d656-a357db5dc7e9"
      },
      "id": "1g988N-Mn2Ez",
      "execution_count": 147,
      "outputs": [
        {
          "output_type": "stream",
          "name": "stdout",
          "text": [
            "Epoch 1/150\n",
            "234/234 [==============================] - 1s 2ms/step - loss: 0.6502 - accuracy: 0.6176\n",
            "Epoch 2/150\n",
            "234/234 [==============================] - 0s 2ms/step - loss: 0.5136 - accuracy: 0.7716\n",
            "Epoch 3/150\n",
            "234/234 [==============================] - 0s 2ms/step - loss: 0.3642 - accuracy: 0.8623\n",
            "Epoch 4/150\n",
            "234/234 [==============================] - 0s 2ms/step - loss: 0.2733 - accuracy: 0.9012\n",
            "Epoch 5/150\n",
            "234/234 [==============================] - 0s 2ms/step - loss: 0.2256 - accuracy: 0.9162\n",
            "Epoch 6/150\n",
            "234/234 [==============================] - 0s 2ms/step - loss: 0.1966 - accuracy: 0.9269\n",
            "Epoch 7/150\n",
            "234/234 [==============================] - 0s 2ms/step - loss: 0.1778 - accuracy: 0.9354\n",
            "Epoch 8/150\n",
            "234/234 [==============================] - 0s 2ms/step - loss: 0.1649 - accuracy: 0.9380\n",
            "Epoch 9/150\n",
            "234/234 [==============================] - 0s 2ms/step - loss: 0.1556 - accuracy: 0.9435\n",
            "Epoch 10/150\n",
            "234/234 [==============================] - 0s 2ms/step - loss: 0.1468 - accuracy: 0.9453\n",
            "Epoch 11/150\n",
            "234/234 [==============================] - 0s 2ms/step - loss: 0.1406 - accuracy: 0.9478\n",
            "Epoch 12/150\n",
            "234/234 [==============================] - 0s 2ms/step - loss: 0.1356 - accuracy: 0.9500\n",
            "Epoch 13/150\n",
            "234/234 [==============================] - 0s 2ms/step - loss: 0.1313 - accuracy: 0.9525\n",
            "Epoch 14/150\n",
            "234/234 [==============================] - 0s 2ms/step - loss: 0.1278 - accuracy: 0.9547\n",
            "Epoch 15/150\n",
            "234/234 [==============================] - 0s 2ms/step - loss: 0.1216 - accuracy: 0.9598\n",
            "Epoch 16/150\n",
            "234/234 [==============================] - 0s 2ms/step - loss: 0.1204 - accuracy: 0.9577\n",
            "Epoch 17/150\n",
            "234/234 [==============================] - 1s 3ms/step - loss: 0.1168 - accuracy: 0.9607\n",
            "Epoch 18/150\n",
            "234/234 [==============================] - 1s 3ms/step - loss: 0.1144 - accuracy: 0.9611\n",
            "Epoch 19/150\n",
            "234/234 [==============================] - 1s 2ms/step - loss: 0.1120 - accuracy: 0.9624\n",
            "Epoch 20/150\n",
            "234/234 [==============================] - 1s 3ms/step - loss: 0.1088 - accuracy: 0.9615\n",
            "Epoch 21/150\n",
            "234/234 [==============================] - 1s 3ms/step - loss: 0.1092 - accuracy: 0.9628\n",
            "Epoch 22/150\n",
            "234/234 [==============================] - 1s 3ms/step - loss: 0.1065 - accuracy: 0.9619\n",
            "Epoch 23/150\n",
            "234/234 [==============================] - 1s 3ms/step - loss: 0.1038 - accuracy: 0.9632\n",
            "Epoch 24/150\n",
            "234/234 [==============================] - 0s 2ms/step - loss: 0.1038 - accuracy: 0.9636\n",
            "Epoch 25/150\n",
            "234/234 [==============================] - 0s 2ms/step - loss: 0.1025 - accuracy: 0.9649\n",
            "Epoch 26/150\n",
            "234/234 [==============================] - 0s 2ms/step - loss: 0.1010 - accuracy: 0.9658\n",
            "Epoch 27/150\n",
            "234/234 [==============================] - 0s 2ms/step - loss: 0.1001 - accuracy: 0.9658\n",
            "Epoch 28/150\n",
            "234/234 [==============================] - 0s 2ms/step - loss: 0.0995 - accuracy: 0.9662\n",
            "Epoch 29/150\n",
            "234/234 [==============================] - 0s 2ms/step - loss: 0.0981 - accuracy: 0.9649\n",
            "Epoch 30/150\n",
            "234/234 [==============================] - 0s 2ms/step - loss: 0.0957 - accuracy: 0.9649\n",
            "Epoch 31/150\n",
            "234/234 [==============================] - 0s 2ms/step - loss: 0.0964 - accuracy: 0.9675\n",
            "Epoch 32/150\n",
            "234/234 [==============================] - 0s 2ms/step - loss: 0.0943 - accuracy: 0.9688\n",
            "Epoch 33/150\n",
            "234/234 [==============================] - 0s 2ms/step - loss: 0.0946 - accuracy: 0.9683\n",
            "Epoch 34/150\n",
            "234/234 [==============================] - 0s 2ms/step - loss: 0.0930 - accuracy: 0.9666\n",
            "Epoch 35/150\n",
            "234/234 [==============================] - 0s 2ms/step - loss: 0.0916 - accuracy: 0.9688\n",
            "Epoch 36/150\n",
            "234/234 [==============================] - 0s 2ms/step - loss: 0.0903 - accuracy: 0.9666\n",
            "Epoch 37/150\n",
            "234/234 [==============================] - 0s 2ms/step - loss: 0.0905 - accuracy: 0.9692\n",
            "Epoch 38/150\n",
            "234/234 [==============================] - 0s 2ms/step - loss: 0.0882 - accuracy: 0.9696\n",
            "Epoch 39/150\n",
            "234/234 [==============================] - 0s 2ms/step - loss: 0.0892 - accuracy: 0.9696\n",
            "Epoch 40/150\n",
            "234/234 [==============================] - 1s 2ms/step - loss: 0.0883 - accuracy: 0.9709\n",
            "Epoch 41/150\n",
            "234/234 [==============================] - 0s 2ms/step - loss: 0.0855 - accuracy: 0.9722\n",
            "Epoch 42/150\n",
            "234/234 [==============================] - 1s 2ms/step - loss: 0.0863 - accuracy: 0.9705\n",
            "Epoch 43/150\n",
            "234/234 [==============================] - 0s 2ms/step - loss: 0.0858 - accuracy: 0.9692\n",
            "Epoch 44/150\n",
            "234/234 [==============================] - 0s 2ms/step - loss: 0.0845 - accuracy: 0.9722\n",
            "Epoch 45/150\n",
            "234/234 [==============================] - 1s 3ms/step - loss: 0.0832 - accuracy: 0.9722\n",
            "Epoch 46/150\n",
            "234/234 [==============================] - 1s 3ms/step - loss: 0.0825 - accuracy: 0.9722\n",
            "Epoch 47/150\n",
            "234/234 [==============================] - 1s 3ms/step - loss: 0.0827 - accuracy: 0.9739\n",
            "Epoch 48/150\n",
            "234/234 [==============================] - 1s 3ms/step - loss: 0.0799 - accuracy: 0.9743\n",
            "Epoch 49/150\n",
            "234/234 [==============================] - 1s 3ms/step - loss: 0.0818 - accuracy: 0.9739\n",
            "Epoch 50/150\n",
            "234/234 [==============================] - 1s 3ms/step - loss: 0.0811 - accuracy: 0.9713\n",
            "Epoch 51/150\n",
            "234/234 [==============================] - 1s 3ms/step - loss: 0.0798 - accuracy: 0.9731\n",
            "Epoch 52/150\n",
            "234/234 [==============================] - 1s 2ms/step - loss: 0.0797 - accuracy: 0.9743\n",
            "Epoch 53/150\n",
            "234/234 [==============================] - 0s 2ms/step - loss: 0.0786 - accuracy: 0.9731\n",
            "Epoch 54/150\n",
            "234/234 [==============================] - 0s 2ms/step - loss: 0.0775 - accuracy: 0.9743\n",
            "Epoch 55/150\n",
            "234/234 [==============================] - 0s 2ms/step - loss: 0.0783 - accuracy: 0.9739\n",
            "Epoch 56/150\n",
            "234/234 [==============================] - 0s 2ms/step - loss: 0.0777 - accuracy: 0.9748\n",
            "Epoch 57/150\n",
            "234/234 [==============================] - 1s 2ms/step - loss: 0.0768 - accuracy: 0.9748\n",
            "Epoch 58/150\n",
            "234/234 [==============================] - 1s 2ms/step - loss: 0.0755 - accuracy: 0.9765\n",
            "Epoch 59/150\n",
            "234/234 [==============================] - 1s 2ms/step - loss: 0.0761 - accuracy: 0.9752\n",
            "Epoch 60/150\n",
            "234/234 [==============================] - 0s 2ms/step - loss: 0.0752 - accuracy: 0.9739\n",
            "Epoch 61/150\n",
            "234/234 [==============================] - 0s 2ms/step - loss: 0.0739 - accuracy: 0.9748\n",
            "Epoch 62/150\n",
            "234/234 [==============================] - 0s 2ms/step - loss: 0.0752 - accuracy: 0.9739\n",
            "Epoch 63/150\n",
            "234/234 [==============================] - 0s 2ms/step - loss: 0.0736 - accuracy: 0.9756\n",
            "Epoch 64/150\n",
            "234/234 [==============================] - 0s 2ms/step - loss: 0.0724 - accuracy: 0.9752\n",
            "Epoch 65/150\n",
            "234/234 [==============================] - 0s 2ms/step - loss: 0.0729 - accuracy: 0.9760\n",
            "Epoch 66/150\n",
            "234/234 [==============================] - 0s 2ms/step - loss: 0.0717 - accuracy: 0.9752\n",
            "Epoch 67/150\n",
            "234/234 [==============================] - 0s 2ms/step - loss: 0.0713 - accuracy: 0.9765\n",
            "Epoch 68/150\n",
            "234/234 [==============================] - 0s 2ms/step - loss: 0.0711 - accuracy: 0.9731\n",
            "Epoch 69/150\n",
            "234/234 [==============================] - 0s 2ms/step - loss: 0.0698 - accuracy: 0.9765\n",
            "Epoch 70/150\n",
            "234/234 [==============================] - 1s 2ms/step - loss: 0.0701 - accuracy: 0.9760\n",
            "Epoch 71/150\n",
            "234/234 [==============================] - 0s 2ms/step - loss: 0.0706 - accuracy: 0.9769\n",
            "Epoch 72/150\n",
            "234/234 [==============================] - 1s 2ms/step - loss: 0.0689 - accuracy: 0.9756\n",
            "Epoch 73/150\n",
            "234/234 [==============================] - 1s 3ms/step - loss: 0.0674 - accuracy: 0.9782\n",
            "Epoch 74/150\n",
            "234/234 [==============================] - 1s 3ms/step - loss: 0.0685 - accuracy: 0.9773\n",
            "Epoch 75/150\n",
            "234/234 [==============================] - 1s 3ms/step - loss: 0.0679 - accuracy: 0.9743\n",
            "Epoch 76/150\n",
            "234/234 [==============================] - 1s 3ms/step - loss: 0.0671 - accuracy: 0.9773\n",
            "Epoch 77/150\n",
            "234/234 [==============================] - 1s 3ms/step - loss: 0.0672 - accuracy: 0.9765\n",
            "Epoch 78/150\n",
            "234/234 [==============================] - 1s 3ms/step - loss: 0.0651 - accuracy: 0.9786\n",
            "Epoch 79/150\n",
            "234/234 [==============================] - 1s 3ms/step - loss: 0.0661 - accuracy: 0.9778\n",
            "Epoch 80/150\n",
            "234/234 [==============================] - 0s 2ms/step - loss: 0.0645 - accuracy: 0.9782\n",
            "Epoch 81/150\n",
            "234/234 [==============================] - 0s 2ms/step - loss: 0.0652 - accuracy: 0.9756\n",
            "Epoch 82/150\n",
            "234/234 [==============================] - 0s 2ms/step - loss: 0.0632 - accuracy: 0.9803\n",
            "Epoch 83/150\n",
            "234/234 [==============================] - 0s 2ms/step - loss: 0.0633 - accuracy: 0.9782\n",
            "Epoch 84/150\n",
            "234/234 [==============================] - 0s 2ms/step - loss: 0.0625 - accuracy: 0.9799\n",
            "Epoch 85/150\n",
            "234/234 [==============================] - 0s 2ms/step - loss: 0.0636 - accuracy: 0.9786\n",
            "Epoch 86/150\n",
            "234/234 [==============================] - 0s 2ms/step - loss: 0.0618 - accuracy: 0.9786\n",
            "Epoch 87/150\n",
            "234/234 [==============================] - 0s 2ms/step - loss: 0.0626 - accuracy: 0.9799\n",
            "Epoch 88/150\n",
            "234/234 [==============================] - 0s 2ms/step - loss: 0.0614 - accuracy: 0.9803\n",
            "Epoch 89/150\n",
            "234/234 [==============================] - 0s 2ms/step - loss: 0.0623 - accuracy: 0.9790\n",
            "Epoch 90/150\n",
            "234/234 [==============================] - 0s 2ms/step - loss: 0.0606 - accuracy: 0.9812\n",
            "Epoch 91/150\n",
            "234/234 [==============================] - 0s 2ms/step - loss: 0.0610 - accuracy: 0.9803\n",
            "Epoch 92/150\n",
            "234/234 [==============================] - 0s 2ms/step - loss: 0.0620 - accuracy: 0.9782\n",
            "Epoch 93/150\n",
            "234/234 [==============================] - 1s 2ms/step - loss: 0.0600 - accuracy: 0.9808\n",
            "Epoch 94/150\n",
            "234/234 [==============================] - 0s 2ms/step - loss: 0.0595 - accuracy: 0.9795\n",
            "Epoch 95/150\n",
            "234/234 [==============================] - 1s 2ms/step - loss: 0.0586 - accuracy: 0.9812\n",
            "Epoch 96/150\n",
            "234/234 [==============================] - 1s 2ms/step - loss: 0.0582 - accuracy: 0.9795\n",
            "Epoch 97/150\n",
            "234/234 [==============================] - 1s 3ms/step - loss: 0.0589 - accuracy: 0.9782\n",
            "Epoch 98/150\n",
            "234/234 [==============================] - 1s 3ms/step - loss: 0.0571 - accuracy: 0.9812\n",
            "Epoch 99/150\n",
            "234/234 [==============================] - 1s 3ms/step - loss: 0.0573 - accuracy: 0.9778\n",
            "Epoch 100/150\n",
            "234/234 [==============================] - 1s 3ms/step - loss: 0.0568 - accuracy: 0.9778\n",
            "Epoch 101/150\n",
            "234/234 [==============================] - 1s 3ms/step - loss: 0.0583 - accuracy: 0.9808\n",
            "Epoch 102/150\n",
            "234/234 [==============================] - 1s 3ms/step - loss: 0.0554 - accuracy: 0.9816\n",
            "Epoch 103/150\n",
            "234/234 [==============================] - 1s 3ms/step - loss: 0.0563 - accuracy: 0.9820\n",
            "Epoch 104/150\n",
            "234/234 [==============================] - 1s 3ms/step - loss: 0.0553 - accuracy: 0.9803\n",
            "Epoch 105/150\n",
            "234/234 [==============================] - 1s 3ms/step - loss: 0.0557 - accuracy: 0.9837\n",
            "Epoch 106/150\n",
            "234/234 [==============================] - 1s 3ms/step - loss: 0.0555 - accuracy: 0.9812\n",
            "Epoch 107/150\n",
            "234/234 [==============================] - 1s 3ms/step - loss: 0.0563 - accuracy: 0.9816\n",
            "Epoch 108/150\n",
            "234/234 [==============================] - 1s 3ms/step - loss: 0.0547 - accuracy: 0.9816\n",
            "Epoch 109/150\n",
            "234/234 [==============================] - 1s 3ms/step - loss: 0.0548 - accuracy: 0.9816\n",
            "Epoch 110/150\n",
            "234/234 [==============================] - 1s 2ms/step - loss: 0.0548 - accuracy: 0.9803\n",
            "Epoch 111/150\n",
            "234/234 [==============================] - 1s 2ms/step - loss: 0.0525 - accuracy: 0.9825\n",
            "Epoch 112/150\n",
            "234/234 [==============================] - 0s 2ms/step - loss: 0.0539 - accuracy: 0.9812\n",
            "Epoch 113/150\n",
            "234/234 [==============================] - 1s 3ms/step - loss: 0.0527 - accuracy: 0.9829\n",
            "Epoch 114/150\n",
            "234/234 [==============================] - 1s 3ms/step - loss: 0.0514 - accuracy: 0.9855\n",
            "Epoch 115/150\n",
            "234/234 [==============================] - 1s 3ms/step - loss: 0.0533 - accuracy: 0.9816\n",
            "Epoch 116/150\n",
            "234/234 [==============================] - 0s 2ms/step - loss: 0.0518 - accuracy: 0.9837\n",
            "Epoch 117/150\n",
            "234/234 [==============================] - 0s 2ms/step - loss: 0.0523 - accuracy: 0.9833\n",
            "Epoch 118/150\n",
            "234/234 [==============================] - 0s 2ms/step - loss: 0.0527 - accuracy: 0.9816\n",
            "Epoch 119/150\n",
            "234/234 [==============================] - 0s 2ms/step - loss: 0.0517 - accuracy: 0.9833\n",
            "Epoch 120/150\n",
            "234/234 [==============================] - 0s 2ms/step - loss: 0.0517 - accuracy: 0.9837\n",
            "Epoch 121/150\n",
            "234/234 [==============================] - 0s 2ms/step - loss: 0.0521 - accuracy: 0.9825\n",
            "Epoch 122/150\n",
            "234/234 [==============================] - 0s 2ms/step - loss: 0.0508 - accuracy: 0.9829\n",
            "Epoch 123/150\n",
            "234/234 [==============================] - 0s 2ms/step - loss: 0.0514 - accuracy: 0.9816\n",
            "Epoch 124/150\n",
            "234/234 [==============================] - 0s 2ms/step - loss: 0.0512 - accuracy: 0.9850\n",
            "Epoch 125/150\n",
            "234/234 [==============================] - 0s 2ms/step - loss: 0.0500 - accuracy: 0.9833\n",
            "Epoch 126/150\n",
            "234/234 [==============================] - 0s 2ms/step - loss: 0.0482 - accuracy: 0.9825\n",
            "Epoch 127/150\n",
            "234/234 [==============================] - 0s 2ms/step - loss: 0.0501 - accuracy: 0.9837\n",
            "Epoch 128/150\n",
            "234/234 [==============================] - 0s 2ms/step - loss: 0.0484 - accuracy: 0.9833\n",
            "Epoch 129/150\n",
            "234/234 [==============================] - 1s 2ms/step - loss: 0.0502 - accuracy: 0.9829\n",
            "Epoch 130/150\n",
            "234/234 [==============================] - 1s 3ms/step - loss: 0.0485 - accuracy: 0.9846\n",
            "Epoch 131/150\n",
            "234/234 [==============================] - 1s 3ms/step - loss: 0.0481 - accuracy: 0.9825\n",
            "Epoch 132/150\n",
            "234/234 [==============================] - 1s 3ms/step - loss: 0.0487 - accuracy: 0.9850\n",
            "Epoch 133/150\n",
            "234/234 [==============================] - 1s 3ms/step - loss: 0.0477 - accuracy: 0.9850\n",
            "Epoch 134/150\n",
            "234/234 [==============================] - 1s 3ms/step - loss: 0.0468 - accuracy: 0.9850\n",
            "Epoch 135/150\n",
            "234/234 [==============================] - 1s 3ms/step - loss: 0.0492 - accuracy: 0.9829\n",
            "Epoch 136/150\n",
            "234/234 [==============================] - 1s 3ms/step - loss: 0.0490 - accuracy: 0.9825\n",
            "Epoch 137/150\n",
            "234/234 [==============================] - 0s 2ms/step - loss: 0.0458 - accuracy: 0.9842\n",
            "Epoch 138/150\n",
            "234/234 [==============================] - 0s 2ms/step - loss: 0.0466 - accuracy: 0.9837\n",
            "Epoch 139/150\n",
            "234/234 [==============================] - 0s 2ms/step - loss: 0.0471 - accuracy: 0.9842\n",
            "Epoch 140/150\n",
            "234/234 [==============================] - 0s 2ms/step - loss: 0.0471 - accuracy: 0.9837\n",
            "Epoch 141/150\n",
            "234/234 [==============================] - 0s 2ms/step - loss: 0.0459 - accuracy: 0.9837\n",
            "Epoch 142/150\n",
            "234/234 [==============================] - 0s 2ms/step - loss: 0.0461 - accuracy: 0.9846\n",
            "Epoch 143/150\n",
            "234/234 [==============================] - 0s 2ms/step - loss: 0.0457 - accuracy: 0.9859\n",
            "Epoch 144/150\n",
            "234/234 [==============================] - 0s 2ms/step - loss: 0.0449 - accuracy: 0.9885\n",
            "Epoch 145/150\n",
            "234/234 [==============================] - 0s 2ms/step - loss: 0.0471 - accuracy: 0.9855\n",
            "Epoch 146/150\n",
            "234/234 [==============================] - 0s 2ms/step - loss: 0.0440 - accuracy: 0.9855\n",
            "Epoch 147/150\n",
            "234/234 [==============================] - 0s 2ms/step - loss: 0.0460 - accuracy: 0.9846\n",
            "Epoch 148/150\n",
            "234/234 [==============================] - 1s 2ms/step - loss: 0.0451 - accuracy: 0.9833\n",
            "Epoch 149/150\n",
            "234/234 [==============================] - 0s 2ms/step - loss: 0.0443 - accuracy: 0.9880\n",
            "Epoch 150/150\n",
            "234/234 [==============================] - 0s 2ms/step - loss: 0.0445 - accuracy: 0.9863\n"
          ]
        },
        {
          "output_type": "display_data",
          "data": {
            "text/plain": [
              "<Figure size 800x600 with 2 Axes>"
            ],
            "image/png": "[encoded data removed]"
          },
          "metadata": {}
        }
      ]
    },
    {
      "cell_type": "code",
      "source": [
        "df = shuffle(df)"
      ],
      "metadata": {
        "id": "TqwzMsdUNuRy"
      },
      "id": "TqwzMsdUNuRy",
      "execution_count": null,
      "outputs": []
    }
  ],
  "metadata": {
    "kernelspec": {
      "display_name": "Python 3",
      "language": "python",
      "name": "python3"
    },
    "language_info": {
      "codemirror_mode": {
        "name": "ipython",
        "version": 3
      },
      "file_extension": ".py",
      "mimetype": "text/x-python",
      "name": "python",
      "nbconvert_exporter": "python",
      "pygments_lexer": "ipython3",
      "version": "3.7.12"
    },
    "papermill": {
      "default_parameters": {},
      "duration": 1669.133749,
      "end_time": "2023-04-04T01:20:48.919315",
      "environment_variables": {},
      "exception": null,
      "input_path": "__notebook__.ipynb",
      "output_path": "__notebook__.ipynb",
      "parameters": {},
      "start_time": "2023-04-04T00:52:59.785566",
      "version": "2.4.0"
    },
    "colab": {
      "provenance": []
    }
  },
  "nbformat": 4,
  "nbformat_minor": 5
}